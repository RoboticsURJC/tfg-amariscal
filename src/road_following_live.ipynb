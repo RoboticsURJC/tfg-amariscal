{
 "cells": [
  {
   "cell_type": "markdown",
   "metadata": {},
   "source": [
    "# Road Following Live (with camera)"
   ]
  },
  {
   "cell_type": "markdown",
   "metadata": {},
   "source": []
  },
  {
   "cell_type": "code",
   "execution_count": 1,
   "metadata": {
    "tags": []
   },
   "outputs": [
    {
     "name": "stdout",
     "output_type": "stream",
     "text": [
      "Hola\n"
     ]
    }
   ],
   "source": [
    "import torch\n",
    "import sys\n",
    "from torch2trt import TRTModule\n",
    "\n",
    "model_trt = TRTModule()\n",
    "model_trt.load_state_dict(torch.load('/home/jetson/github/tfg-amariscal/models/road_following_model_trt.pth'))\n",
    "print(\"Hola\")"
   ]
  },
  {
   "cell_type": "markdown",
   "metadata": {},
   "source": [
    "Create the racecar class"
   ]
  },
  {
   "cell_type": "code",
   "execution_count": 2,
   "metadata": {
    "tags": []
   },
   "outputs": [
    {
     "name": "stdout",
     "output_type": "stream",
     "text": [
      "Hola2\n"
     ]
    }
   ],
   "source": [
    "from jetracer.my_racecar import MyRacecar\n",
    "import Jetson.GPIO as GPIO\n",
    "#from motorsJetson import Motors\n",
    "\n",
    "# Left motors\n",
    "ENA = 33\n",
    "IN1 = 21\n",
    "IN2 = 22\n",
    "\n",
    "# Right motors\n",
    "ENB = 32\n",
    "IN3 = 26\n",
    "IN4 = 24\n",
    "\n",
    "# 50 Hz\n",
    "FREQUENCY = 50\n",
    "\n",
    "car = MyRacecar()\n",
    "#GPIO.setmode(GPIO.BOARD)\n",
    "#GPIO.setwarnings(False)\n",
    "\n",
    "#motors = Motors(ENA, IN1, IN2, ENB, IN3, IN4, FREQUENCY)\n",
    "print(\"Hola2\")"
   ]
  },
  {
   "cell_type": "markdown",
   "metadata": {},
   "source": [
    "Create the camera class."
   ]
  },
  {
   "cell_type": "code",
   "execution_count": 3,
   "metadata": {
    "tags": []
   },
   "outputs": [
    {
     "name": "stdout",
     "output_type": "stream",
     "text": [
      "Capture device is 0\n"
     ]
    }
   ],
   "source": [
    "from jetcam.usb_camera import USBCamera\n",
    "\n",
    "camera = USBCamera(width=224, height=224, capture_width=640, capture_height=480, capture_device=0)"
   ]
  },
  {
   "cell_type": "code",
   "execution_count": null,
   "metadata": {},
   "outputs": [],
   "source": []
  },
  {
   "cell_type": "code",
   "execution_count": 4,
   "metadata": {},
   "outputs": [],
   "source": [
    "import cv2\n",
    "import ipywidgets\n",
    "import threading\n",
    "\n",
    "state_widget = ipywidgets.ToggleButtons(options=['On', 'Off'], description='Camera', value='On')\n",
    "prediction_widget = ipywidgets.Image(format='jpeg', width=camera.width, height=camera.height)\n",
    "\n",
    "live_execution_widget = ipywidgets.VBox([\n",
    "    prediction_widget,\n",
    "    state_widget\n",
    "])"
   ]
  },
  {
   "cell_type": "markdown",
   "metadata": {},
   "source": [
    "Before letting your car go, let's prepare slide bars for gains and offset, so that you can adjust them during the runtime."
   ]
  },
  {
   "cell_type": "code",
   "execution_count": 5,
   "metadata": {},
   "outputs": [
    {
     "data": {
      "application/vnd.jupyter.widget-view+json": {
       "model_id": "09cf52136b1a4afe8fbaac1c0944effc",
       "version_major": 2,
       "version_minor": 0
      },
      "text/plain": [
       "HBox(children=(VBox(children=(FloatSlider(value=0.0, description='Network Output', layout=Layout(width='400px'…"
      ]
     },
     "metadata": {},
     "output_type": "display_data"
    }
   ],
   "source": [
    "import traitlets\n",
    "from IPython.display import display\n",
    "from ipywidgets import Layout, Button, Box\n",
    "import ipywidgets.widgets as widgets\n",
    "\n",
    "network_output_slider = widgets.FloatSlider(description='Network Output', min=-1.0, max=1.0, value=0, step=0.01, orientation='horizontal', disabled=False, layout={'width': '400px'})\n",
    "steering_gain_slider  = widgets.FloatSlider(description='Steering Gain', min=-1.0, max=1.0, value=-0.7, step=0.01, orientation='horizontal', layout={'width': '300px'})\n",
    "steering_bias_slider  = widgets.FloatSlider(description='Steering Bias', min=-0.5, max=0.5, value=0.0, step=0.01, orientation='horizontal', layout={'width': '300px'})\n",
    "steering_value_slider = widgets.FloatSlider(description='Steering', min=-1.0, max=1.0, value=0, step=0.01, orientation='horizontal', disabled=False, layout={'width': '400px'})\n",
    "throttle_slider = widgets.FloatSlider(description='Throttle', min=-1.0, max=1.0, value=0.15, step=0.01, orientation='vertical')\n",
    "\n",
    "\n",
    "steering_gain_link   = traitlets.link((steering_gain_slider, 'value'), (car, 'steering_gain'))\n",
    "steering_offset_link = traitlets.link((steering_bias_slider, 'value'), (car, 'steering_offset'))\n",
    "#steering_value_link  = traitlets.link((steering_value_slider, 'value'), (car, 'steering'))\n",
    "throttle_slider_link = traitlets.link((throttle_slider, 'value'), (car, 'throttle'))\n",
    "\n",
    "display(\n",
    "    widgets.HBox(\n",
    "        [widgets.VBox([network_output_slider,\n",
    "                       widgets.Label(value=\"X\"),\n",
    "                       steering_gain_slider,\n",
    "                       widgets.Label(value=\"+\"),\n",
    "                       steering_bias_slider,\n",
    "                       widgets.Label(value=\"||\"), \n",
    "                       steering_value_slider], layout=Layout(\n",
    "                                                    align_items='center'\n",
    "                                                        )\n",
    "                     ), \n",
    "         live_execution_widget,\n",
    "         throttle_slider]\n",
    "    )\n",
    ")"
   ]
  },
  {
   "cell_type": "markdown",
   "metadata": {},
   "source": [
    "Finally, execute the cell below to make the racecar move forward, steering the racecar based on the x value of the apex.\n",
    "\n",
    "Here are some tips,\n",
    "\n",
    "* If the car wobbles left and right,  lower the steering gain\n",
    "* If the car misses turns,  raise the steering gain\n",
    "* If the car tends right, make the steering bias more negative (in small increments like -0.05)\n",
    "* If the car tends left, make the steering bias more postive (in small increments +0.05)"
   ]
  },
  {
   "cell_type": "code",
   "execution_count": 6,
   "metadata": {},
   "outputs": [
    {
     "name": "stdout",
     "output_type": "stream",
     "text": [
      "St: {'name': 'steering', 'old': 0.0, 'new': 0.029388427734375, 'owner': <jetracer.my_racecar.MyRacecar object at 0x7f19c56320>, 'type': 'change'}\n"
     ]
    }
   ],
   "source": [
    "from utils import preprocess\n",
    "from jetcam.utils import bgr8_to_jpeg\n",
    "\n",
    "def update(change):\n",
    "    global blocked_slider, robot\n",
    "    new_image = change['new'] \n",
    "    \n",
    "    image = preprocess(new_image).half()\n",
    "    output = model_trt(image).detach().cpu().numpy().flatten()\n",
    "    x = float(output[0])\n",
    "    y = float(output[0])\n",
    "    \n",
    "    network_output_slider.value = x\n",
    "    steering = x * steering_gain_slider.value + steering_bias_slider.value\n",
    "    \n",
    "    if(steering<-1.0):\n",
    "        steering_value_slider.value = -1.0\n",
    "    elif(steering>1.0):\n",
    "        steering_value_slider.value = 1.0\n",
    "    else:\n",
    "        steering_value_slider.value = steering \n",
    "    car.steering = x\n",
    "    \n",
    "    if(state_widget.value == 'On'):\n",
    "        x = int(camera.width * (x / 2.0 + 0.5))\n",
    "        y = int(camera.height * (y / 2.0 + 0.5))  \n",
    "        prediction = new_image.copy()\n",
    "        prediction = cv2.circle(prediction, (x, y), 8, (255, 0, 0), 3)\n",
    "        prediction_widget.value = bgr8_to_jpeg(prediction)\n",
    "        \n",
    "update({'new': camera.value})  # we call the function once to initialize"
   ]
  },
  {
   "cell_type": "code",
   "execution_count": 7,
   "metadata": {},
   "outputs": [],
   "source": [
    "camera.observe(update, names='value') "
   ]
  },
  {
   "cell_type": "code",
   "execution_count": 8,
   "metadata": {},
   "outputs": [
    {
     "name": "stdout",
     "output_type": "stream",
     "text": [
      "St: {'name': 'steering', 'old': 0.029388427734375, 'new': -0.69873046875, 'owner': <jetracer.my_racecar.MyRacecar object at 0x7f19c56320>, 'type': 'change'}\n",
      "St: {'name': 'steering', 'old': -0.69873046875, 'new': -0.69189453125, 'owner': <jetracer.my_racecar.MyRacecar object at 0x7f19c56320>, 'type': 'change'}\n",
      "St: {'name': 'steering', 'old': -0.69189453125, 'new': -0.69482421875, 'owner': <jetracer.my_racecar.MyRacecar object at 0x7f19c56320>, 'type': 'change'}\n",
      "St: {'name': 'steering', 'old': -0.69482421875, 'new': -0.701171875, 'owner': <jetracer.my_racecar.MyRacecar object at 0x7f19c56320>, 'type': 'change'}\n",
      "St: {'name': 'steering', 'old': -0.701171875, 'new': -0.70458984375, 'owner': <jetracer.my_racecar.MyRacecar object at 0x7f19c56320>, 'type': 'change'}\n",
      "St: {'name': 'steering', 'old': -0.70458984375, 'new': -0.69287109375, 'owner': <jetracer.my_racecar.MyRacecar object at 0x7f19c56320>, 'type': 'change'}\n",
      "St: {'name': 'steering', 'old': -0.69287109375, 'new': -0.68505859375, 'owner': <jetracer.my_racecar.MyRacecar object at 0x7f19c56320>, 'type': 'change'}\n",
      "St: {'name': 'steering', 'old': -0.68505859375, 'new': -0.7138671875, 'owner': <jetracer.my_racecar.MyRacecar object at 0x7f19c56320>, 'type': 'change'}\n",
      "St: {'name': 'steering', 'old': -0.7138671875, 'new': -0.6826171875, 'owner': <jetracer.my_racecar.MyRacecar object at 0x7f19c56320>, 'type': 'change'}\n",
      "St: {'name': 'steering', 'old': -0.6826171875, 'new': -0.68798828125, 'owner': <jetracer.my_racecar.MyRacecar object at 0x7f19c56320>, 'type': 'change'}\n",
      "St: {'name': 'steering', 'old': -0.68798828125, 'new': -0.705078125, 'owner': <jetracer.my_racecar.MyRacecar object at 0x7f19c56320>, 'type': 'change'}\n",
      "St: {'name': 'steering', 'old': -0.705078125, 'new': -0.6923828125, 'owner': <jetracer.my_racecar.MyRacecar object at 0x7f19c56320>, 'type': 'change'}\n",
      "St: {'name': 'steering', 'old': -0.6923828125, 'new': -0.69921875, 'owner': <jetracer.my_racecar.MyRacecar object at 0x7f19c56320>, 'type': 'change'}\n",
      "St: {'name': 'steering', 'old': -0.69921875, 'new': -0.66748046875, 'owner': <jetracer.my_racecar.MyRacecar object at 0x7f19c56320>, 'type': 'change'}\n",
      "St: {'name': 'steering', 'old': -0.66748046875, 'new': -0.69970703125, 'owner': <jetracer.my_racecar.MyRacecar object at 0x7f19c56320>, 'type': 'change'}\n",
      "St: {'name': 'steering', 'old': -0.69970703125, 'new': -0.70654296875, 'owner': <jetracer.my_racecar.MyRacecar object at 0x7f19c56320>, 'type': 'change'}\n",
      "St: {'name': 'steering', 'old': -0.70654296875, 'new': -0.71435546875, 'owner': <jetracer.my_racecar.MyRacecar object at 0x7f19c56320>, 'type': 'change'}\n",
      "St: {'name': 'steering', 'old': -0.71435546875, 'new': -0.71142578125, 'owner': <jetracer.my_racecar.MyRacecar object at 0x7f19c56320>, 'type': 'change'}\n",
      "St: {'name': 'steering', 'old': -0.71142578125, 'new': -0.69775390625, 'owner': <jetracer.my_racecar.MyRacecar object at 0x7f19c56320>, 'type': 'change'}\n",
      "St: {'name': 'steering', 'old': -0.69775390625, 'new': -0.689453125, 'owner': <jetracer.my_racecar.MyRacecar object at 0x7f19c56320>, 'type': 'change'}\n",
      "St: {'name': 'steering', 'old': -0.689453125, 'new': -0.71142578125, 'owner': <jetracer.my_racecar.MyRacecar object at 0x7f19c56320>, 'type': 'change'}\n",
      "St: {'name': 'steering', 'old': -0.71142578125, 'new': -0.72216796875, 'owner': <jetracer.my_racecar.MyRacecar object at 0x7f19c56320>, 'type': 'change'}\n",
      "St: {'name': 'steering', 'old': -0.72216796875, 'new': -0.720703125, 'owner': <jetracer.my_racecar.MyRacecar object at 0x7f19c56320>, 'type': 'change'}\n",
      "St: {'name': 'steering', 'old': -0.720703125, 'new': -0.716796875, 'owner': <jetracer.my_racecar.MyRacecar object at 0x7f19c56320>, 'type': 'change'}\n",
      "St: {'name': 'steering', 'old': -0.716796875, 'new': -0.72216796875, 'owner': <jetracer.my_racecar.MyRacecar object at 0x7f19c56320>, 'type': 'change'}\n",
      "St: {'name': 'steering', 'old': -0.72216796875, 'new': -0.7216796875, 'owner': <jetracer.my_racecar.MyRacecar object at 0x7f19c56320>, 'type': 'change'}\n",
      "St: {'name': 'steering', 'old': -0.7216796875, 'new': -0.70751953125, 'owner': <jetracer.my_racecar.MyRacecar object at 0x7f19c56320>, 'type': 'change'}\n",
      "St: {'name': 'steering', 'old': -0.70751953125, 'new': -0.70458984375, 'owner': <jetracer.my_racecar.MyRacecar object at 0x7f19c56320>, 'type': 'change'}\n",
      "St: {'name': 'steering', 'old': -0.70458984375, 'new': -0.68115234375, 'owner': <jetracer.my_racecar.MyRacecar object at 0x7f19c56320>, 'type': 'change'}\n",
      "St: {'name': 'steering', 'old': -0.68115234375, 'new': -0.68994140625, 'owner': <jetracer.my_racecar.MyRacecar object at 0x7f19c56320>, 'type': 'change'}\n",
      "St: {'name': 'steering', 'old': -0.68994140625, 'new': -0.67919921875, 'owner': <jetracer.my_racecar.MyRacecar object at 0x7f19c56320>, 'type': 'change'}\n",
      "St: {'name': 'steering', 'old': -0.67919921875, 'new': -0.68408203125, 'owner': <jetracer.my_racecar.MyRacecar object at 0x7f19c56320>, 'type': 'change'}\n",
      "St: {'name': 'steering', 'old': -0.68408203125, 'new': -0.693359375, 'owner': <jetracer.my_racecar.MyRacecar object at 0x7f19c56320>, 'type': 'change'}\n",
      "St: {'name': 'steering', 'old': -0.693359375, 'new': -0.70361328125, 'owner': <jetracer.my_racecar.MyRacecar object at 0x7f19c56320>, 'type': 'change'}\n",
      "St: {'name': 'steering', 'old': -0.70361328125, 'new': -0.6943359375, 'owner': <jetracer.my_racecar.MyRacecar object at 0x7f19c56320>, 'type': 'change'}\n",
      "St: {'name': 'steering', 'old': -0.6943359375, 'new': -0.6953125, 'owner': <jetracer.my_racecar.MyRacecar object at 0x7f19c56320>, 'type': 'change'}\n",
      "St: {'name': 'steering', 'old': -0.6953125, 'new': -0.689453125, 'owner': <jetracer.my_racecar.MyRacecar object at 0x7f19c56320>, 'type': 'change'}\n",
      "St: {'name': 'steering', 'old': -0.689453125, 'new': -0.6923828125, 'owner': <jetracer.my_racecar.MyRacecar object at 0x7f19c56320>, 'type': 'change'}\n",
      "St: {'name': 'steering', 'old': -0.6923828125, 'new': -0.724609375, 'owner': <jetracer.my_racecar.MyRacecar object at 0x7f19c56320>, 'type': 'change'}\n",
      "St: {'name': 'steering', 'old': -0.724609375, 'new': -0.685546875, 'owner': <jetracer.my_racecar.MyRacecar object at 0x7f19c56320>, 'type': 'change'}\n",
      "St: {'name': 'steering', 'old': -0.685546875, 'new': -0.69775390625, 'owner': <jetracer.my_racecar.MyRacecar object at 0x7f19c56320>, 'type': 'change'}\n",
      "St: {'name': 'steering', 'old': -0.69775390625, 'new': -0.68896484375, 'owner': <jetracer.my_racecar.MyRacecar object at 0x7f19c56320>, 'type': 'change'}\n",
      "St: {'name': 'steering', 'old': -0.68896484375, 'new': -0.6962890625, 'owner': <jetracer.my_racecar.MyRacecar object at 0x7f19c56320>, 'type': 'change'}\n",
      "St: {'name': 'steering', 'old': -0.6962890625, 'new': -0.69384765625, 'owner': <jetracer.my_racecar.MyRacecar object at 0x7f19c56320>, 'type': 'change'}\n",
      "St: {'name': 'steering', 'old': -0.69384765625, 'new': -0.69970703125, 'owner': <jetracer.my_racecar.MyRacecar object at 0x7f19c56320>, 'type': 'change'}\n",
      "St: {'name': 'steering', 'old': -0.69970703125, 'new': -0.70263671875, 'owner': <jetracer.my_racecar.MyRacecar object at 0x7f19c56320>, 'type': 'change'}\n",
      "St: {'name': 'steering', 'old': -0.70263671875, 'new': -0.6923828125, 'owner': <jetracer.my_racecar.MyRacecar object at 0x7f19c56320>, 'type': 'change'}\n",
      "St: {'name': 'steering', 'old': -0.6923828125, 'new': -0.693359375, 'owner': <jetracer.my_racecar.MyRacecar object at 0x7f19c56320>, 'type': 'change'}\n",
      "St: {'name': 'steering', 'old': -0.693359375, 'new': -0.70166015625, 'owner': <jetracer.my_racecar.MyRacecar object at 0x7f19c56320>, 'type': 'change'}\n",
      "St: {'name': 'steering', 'old': -0.70166015625, 'new': -0.69189453125, 'owner': <jetracer.my_racecar.MyRacecar object at 0x7f19c56320>, 'type': 'change'}\n",
      "St: {'name': 'steering', 'old': -0.69189453125, 'new': -0.68017578125, 'owner': <jetracer.my_racecar.MyRacecar object at 0x7f19c56320>, 'type': 'change'}\n",
      "St: {'name': 'steering', 'old': -0.68017578125, 'new': -0.6611328125, 'owner': <jetracer.my_racecar.MyRacecar object at 0x7f19c56320>, 'type': 'change'}\n",
      "St: {'name': 'steering', 'old': -0.6611328125, 'new': -0.68115234375, 'owner': <jetracer.my_racecar.MyRacecar object at 0x7f19c56320>, 'type': 'change'}\n",
      "St: {'name': 'steering', 'old': -0.68115234375, 'new': -0.6875, 'owner': <jetracer.my_racecar.MyRacecar object at 0x7f19c56320>, 'type': 'change'}\n",
      "St: {'name': 'steering', 'old': -0.6875, 'new': -0.66796875, 'owner': <jetracer.my_racecar.MyRacecar object at 0x7f19c56320>, 'type': 'change'}\n",
      "St: {'name': 'steering', 'old': -0.66796875, 'new': -0.67529296875, 'owner': <jetracer.my_racecar.MyRacecar object at 0x7f19c56320>, 'type': 'change'}\n",
      "St: {'name': 'steering', 'old': -0.67529296875, 'new': -0.6806640625, 'owner': <jetracer.my_racecar.MyRacecar object at 0x7f19c56320>, 'type': 'change'}\n",
      "St: {'name': 'steering', 'old': -0.6806640625, 'new': -0.68310546875, 'owner': <jetracer.my_racecar.MyRacecar object at 0x7f19c56320>, 'type': 'change'}\n",
      "St: {'name': 'steering', 'old': -0.68310546875, 'new': -0.67041015625, 'owner': <jetracer.my_racecar.MyRacecar object at 0x7f19c56320>, 'type': 'change'}\n",
      "St: {'name': 'steering', 'old': -0.67041015625, 'new': -0.67431640625, 'owner': <jetracer.my_racecar.MyRacecar object at 0x7f19c56320>, 'type': 'change'}\n",
      "St: {'name': 'steering', 'old': -0.67431640625, 'new': -0.6865234375, 'owner': <jetracer.my_racecar.MyRacecar object at 0x7f19c56320>, 'type': 'change'}\n",
      "St: {'name': 'steering', 'old': -0.6865234375, 'new': -0.677734375, 'owner': <jetracer.my_racecar.MyRacecar object at 0x7f19c56320>, 'type': 'change'}\n",
      "St: {'name': 'steering', 'old': -0.677734375, 'new': -0.67724609375, 'owner': <jetracer.my_racecar.MyRacecar object at 0x7f19c56320>, 'type': 'change'}\n",
      "St: {'name': 'steering', 'old': -0.67724609375, 'new': -0.68994140625, 'owner': <jetracer.my_racecar.MyRacecar object at 0x7f19c56320>, 'type': 'change'}\n",
      "St: {'name': 'steering', 'old': -0.68994140625, 'new': -0.68896484375, 'owner': <jetracer.my_racecar.MyRacecar object at 0x7f19c56320>, 'type': 'change'}\n",
      "St: {'name': 'steering', 'old': -0.68896484375, 'new': -0.6904296875, 'owner': <jetracer.my_racecar.MyRacecar object at 0x7f19c56320>, 'type': 'change'}\n",
      "St: {'name': 'steering', 'old': -0.6904296875, 'new': -0.6875, 'owner': <jetracer.my_racecar.MyRacecar object at 0x7f19c56320>, 'type': 'change'}\n",
      "St: {'name': 'steering', 'old': -0.6875, 'new': -0.666015625, 'owner': <jetracer.my_racecar.MyRacecar object at 0x7f19c56320>, 'type': 'change'}\n",
      "St: {'name': 'steering', 'old': -0.666015625, 'new': -0.68310546875, 'owner': <jetracer.my_racecar.MyRacecar object at 0x7f19c56320>, 'type': 'change'}\n",
      "St: {'name': 'steering', 'old': -0.68310546875, 'new': -0.68994140625, 'owner': <jetracer.my_racecar.MyRacecar object at 0x7f19c56320>, 'type': 'change'}\n",
      "St: {'name': 'steering', 'old': -0.68994140625, 'new': -0.69482421875, 'owner': <jetracer.my_racecar.MyRacecar object at 0x7f19c56320>, 'type': 'change'}\n",
      "St: {'name': 'steering', 'old': -0.69482421875, 'new': -0.6728515625, 'owner': <jetracer.my_racecar.MyRacecar object at 0x7f19c56320>, 'type': 'change'}\n",
      "St: {'name': 'steering', 'old': -0.6728515625, 'new': -0.67041015625, 'owner': <jetracer.my_racecar.MyRacecar object at 0x7f19c56320>, 'type': 'change'}\n",
      "St: {'name': 'steering', 'old': -0.67041015625, 'new': -0.69140625, 'owner': <jetracer.my_racecar.MyRacecar object at 0x7f19c56320>, 'type': 'change'}\n",
      "St: {'name': 'steering', 'old': -0.69140625, 'new': -0.68798828125, 'owner': <jetracer.my_racecar.MyRacecar object at 0x7f19c56320>, 'type': 'change'}\n",
      "St: {'name': 'steering', 'old': -0.68798828125, 'new': -0.673828125, 'owner': <jetracer.my_racecar.MyRacecar object at 0x7f19c56320>, 'type': 'change'}\n",
      "St: {'name': 'steering', 'old': -0.673828125, 'new': -0.67822265625, 'owner': <jetracer.my_racecar.MyRacecar object at 0x7f19c56320>, 'type': 'change'}\n",
      "St: {'name': 'steering', 'old': -0.67822265625, 'new': -0.6640625, 'owner': <jetracer.my_racecar.MyRacecar object at 0x7f19c56320>, 'type': 'change'}\n",
      "St: {'name': 'steering', 'old': -0.6640625, 'new': -0.669921875, 'owner': <jetracer.my_racecar.MyRacecar object at 0x7f19c56320>, 'type': 'change'}\n",
      "St: {'name': 'steering', 'old': -0.669921875, 'new': -0.65380859375, 'owner': <jetracer.my_racecar.MyRacecar object at 0x7f19c56320>, 'type': 'change'}\n",
      "St: {'name': 'steering', 'old': -0.65380859375, 'new': -0.69873046875, 'owner': <jetracer.my_racecar.MyRacecar object at 0x7f19c56320>, 'type': 'change'}\n",
      "St: {'name': 'steering', 'old': -0.69873046875, 'new': -0.662109375, 'owner': <jetracer.my_racecar.MyRacecar object at 0x7f19c56320>, 'type': 'change'}\n",
      "St: {'name': 'steering', 'old': -0.662109375, 'new': -0.67578125, 'owner': <jetracer.my_racecar.MyRacecar object at 0x7f19c56320>, 'type': 'change'}\n",
      "St: {'name': 'steering', 'old': -0.67578125, 'new': -0.669921875, 'owner': <jetracer.my_racecar.MyRacecar object at 0x7f19c56320>, 'type': 'change'}\n",
      "St: {'name': 'steering', 'old': -0.669921875, 'new': -0.6650390625, 'owner': <jetracer.my_racecar.MyRacecar object at 0x7f19c56320>, 'type': 'change'}\n",
      "St: {'name': 'steering', 'old': -0.6650390625, 'new': -0.68359375, 'owner': <jetracer.my_racecar.MyRacecar object at 0x7f19c56320>, 'type': 'change'}\n",
      "St: {'name': 'steering', 'old': -0.68359375, 'new': -0.677734375, 'owner': <jetracer.my_racecar.MyRacecar object at 0x7f19c56320>, 'type': 'change'}\n",
      "St: {'name': 'steering', 'old': -0.677734375, 'new': -0.67724609375, 'owner': <jetracer.my_racecar.MyRacecar object at 0x7f19c56320>, 'type': 'change'}\n",
      "St: {'name': 'steering', 'old': -0.67724609375, 'new': -0.68212890625, 'owner': <jetracer.my_racecar.MyRacecar object at 0x7f19c56320>, 'type': 'change'}\n",
      "St: {'name': 'steering', 'old': -0.68212890625, 'new': -0.68505859375, 'owner': <jetracer.my_racecar.MyRacecar object at 0x7f19c56320>, 'type': 'change'}\n",
      "St: {'name': 'steering', 'old': -0.68505859375, 'new': -0.68359375, 'owner': <jetracer.my_racecar.MyRacecar object at 0x7f19c56320>, 'type': 'change'}\n",
      "St: {'name': 'steering', 'old': -0.68359375, 'new': -0.6982421875, 'owner': <jetracer.my_racecar.MyRacecar object at 0x7f19c56320>, 'type': 'change'}\n",
      "St: {'name': 'steering', 'old': -0.6982421875, 'new': -0.68994140625, 'owner': <jetracer.my_racecar.MyRacecar object at 0x7f19c56320>, 'type': 'change'}\n",
      "St: {'name': 'steering', 'old': -0.68994140625, 'new': -0.6865234375, 'owner': <jetracer.my_racecar.MyRacecar object at 0x7f19c56320>, 'type': 'change'}\n",
      "St: {'name': 'steering', 'old': -0.6865234375, 'new': -0.6796875, 'owner': <jetracer.my_racecar.MyRacecar object at 0x7f19c56320>, 'type': 'change'}\n",
      "St: {'name': 'steering', 'old': -0.6796875, 'new': -0.66748046875, 'owner': <jetracer.my_racecar.MyRacecar object at 0x7f19c56320>, 'type': 'change'}\n",
      "St: {'name': 'steering', 'old': -0.66748046875, 'new': -0.68701171875, 'owner': <jetracer.my_racecar.MyRacecar object at 0x7f19c56320>, 'type': 'change'}\n",
      "St: {'name': 'steering', 'old': -0.68701171875, 'new': -0.67724609375, 'owner': <jetracer.my_racecar.MyRacecar object at 0x7f19c56320>, 'type': 'change'}\n",
      "St: {'name': 'steering', 'old': -0.67724609375, 'new': -0.693359375, 'owner': <jetracer.my_racecar.MyRacecar object at 0x7f19c56320>, 'type': 'change'}\n",
      "St: {'name': 'steering', 'old': -0.693359375, 'new': -0.67822265625, 'owner': <jetracer.my_racecar.MyRacecar object at 0x7f19c56320>, 'type': 'change'}\n",
      "St: {'name': 'steering', 'old': -0.67822265625, 'new': -0.67626953125, 'owner': <jetracer.my_racecar.MyRacecar object at 0x7f19c56320>, 'type': 'change'}\n",
      "St: {'name': 'steering', 'old': -0.67626953125, 'new': -0.68310546875, 'owner': <jetracer.my_racecar.MyRacecar object at 0x7f19c56320>, 'type': 'change'}\n",
      "St: {'name': 'steering', 'old': -0.68310546875, 'new': -0.69189453125, 'owner': <jetracer.my_racecar.MyRacecar object at 0x7f19c56320>, 'type': 'change'}\n",
      "St: {'name': 'steering', 'old': -0.69189453125, 'new': -0.68603515625, 'owner': <jetracer.my_racecar.MyRacecar object at 0x7f19c56320>, 'type': 'change'}\n",
      "St: {'name': 'steering', 'old': -0.68603515625, 'new': -0.66796875, 'owner': <jetracer.my_racecar.MyRacecar object at 0x7f19c56320>, 'type': 'change'}\n",
      "St: {'name': 'steering', 'old': -0.66796875, 'new': -0.68310546875, 'owner': <jetracer.my_racecar.MyRacecar object at 0x7f19c56320>, 'type': 'change'}\n",
      "St: {'name': 'steering', 'old': -0.68310546875, 'new': -0.66650390625, 'owner': <jetracer.my_racecar.MyRacecar object at 0x7f19c56320>, 'type': 'change'}\n"
     ]
    }
   ],
   "source": [
    "camera.running = True"
   ]
  },
  {
   "cell_type": "code",
   "execution_count": null,
   "metadata": {},
   "outputs": [],
   "source": [
    "camera.close"
   ]
  },
  {
   "cell_type": "code",
   "execution_count": null,
   "metadata": {},
   "outputs": [],
   "source": []
  }
 ],
 "metadata": {
  "kernelspec": {
   "display_name": "Python 3",
   "language": "python",
   "name": "python3"
  },
  "language_info": {
   "codemirror_mode": {
    "name": "ipython",
    "version": 3
   },
   "file_extension": ".py",
   "mimetype": "text/x-python",
   "name": "python",
   "nbconvert_exporter": "python",
   "pygments_lexer": "ipython3",
   "version": "3.6.9"
  }
 },
 "nbformat": 4,
 "nbformat_minor": 4
}
