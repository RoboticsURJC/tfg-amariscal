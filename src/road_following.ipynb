{
 "cells": [
  {
   "cell_type": "markdown",
   "metadata": {},
   "source": [
    "First, create the model. This must match the model used in the interactive training notebook."
   ]
  },
  {
   "cell_type": "code",
   "execution_count": null,
   "metadata": {},
   "outputs": [],
   "source": [
    "from jetcam.usb_camera import USBCamera\n",
    "from torch2trt import TRTModule\n",
    "from motorsJetson import Motors\n",
    "from utils import preprocess\n",
    "import Jetson.GPIO as GPIO\n",
    "import numpy as np\n",
    "import torch\n",
    "\n",
    "\n",
    "# Left motors\n",
    "ENA = 33\n",
    "IN1 = 21\n",
    "IN2 = 22\n",
    "\n",
    "# Right motors\n",
    "ENB = 32\n",
    "IN3 = 26\n",
    "IN4 = 24\n",
    "\n",
    "# 50 Hz\n",
    "FREQUENCY = 50\n",
    "\n",
    "model_trt = TRTModule()\n",
    "model_trt.load_state_dict(torch.load('/home/jetson/github/tfg-amariscal/models/road_following_model_trt.pth'))\n",
    "GPIO.setmode(GPIO.BOARD)\n",
    "GPIO.setwarnings(False)\n",
    "\n",
    "motors = Motors(ENA, IN1, IN2, ENB, IN3, IN4, FREQUENCY)\n",
    "\n",
    "camera = USBCamera(width=224, height=224, capture_width=640, capture_height=480, capture_device=0)\n",
    "\n",
    "STEERING_GAIN = 0.5\n",
    "STEERING_BIAS = 0.8\n",
    "\n",
    "# car.throttle = 0.15\n",
    "\n",
    "while True:\n",
    "    image = camera.read()\n",
    "    print(\"type: \" + str(type(image)))\n",
    "    image = preprocess(image).half()\n",
    "    output = model_trt(image).detach().cpu().numpy().flatten()\n",
    "    x = float(output[0])\n",
    "    motors.w = x * STEERING_GAIN + STEERING_BIAS\n",
    "    print(\"x: \" + str(x) + \" w: \" + str(motors.w))\n",
    "    motors.mySpeed()"
   ]
  },
  {
   "cell_type": "markdown",
   "metadata": {},
   "source": [
    "Next, load the saved model.  Enter the model path you used to save."
   ]
  },
  {
   "cell_type": "code",
   "execution_count": null,
   "metadata": {},
   "outputs": [],
   "source": []
  },
  {
   "cell_type": "markdown",
   "metadata": {},
   "source": []
  },
  {
   "cell_type": "code",
   "execution_count": null,
   "metadata": {},
   "outputs": [],
   "source": []
  },
  {
   "cell_type": "markdown",
   "metadata": {},
   "source": []
  },
  {
   "cell_type": "code",
   "execution_count": null,
   "metadata": {},
   "outputs": [],
   "source": []
  },
  {
   "cell_type": "markdown",
   "metadata": {},
   "source": []
  },
  {
   "cell_type": "code",
   "execution_count": null,
   "metadata": {},
   "outputs": [],
   "source": []
  },
  {
   "cell_type": "markdown",
   "metadata": {},
   "source": []
  },
  {
   "cell_type": "code",
   "execution_count": null,
   "metadata": {},
   "outputs": [],
   "source": []
  },
  {
   "cell_type": "markdown",
   "metadata": {},
   "source": [
    "Create the camera class."
   ]
  },
  {
   "cell_type": "markdown",
   "metadata": {},
   "source": [
    "Finally, execute the cell below to make the racecar move forward, steering the racecar based on the x value of the apex.\n",
    "\n",
    "Here are some tips,\n",
    "\n",
    "* If the car wobbles left and right,  lower the steering gain\n",
    "* If the car misses turns,  raise the steering gain\n",
    "* If the car tends right, make the steering bias more negative (in small increments like -0.05)\n",
    "* If the car tends left, make the steering bias more postive (in small increments +0.05)"
   ]
  }
 ],
 "metadata": {
  "kernelspec": {
   "display_name": "Python 3",
   "language": "python",
   "name": "python3"
  },
  "language_info": {
   "codemirror_mode": {
    "name": "ipython",
    "version": 3
   },
   "file_extension": ".py",
   "mimetype": "text/x-python",
   "name": "python",
   "nbconvert_exporter": "python",
   "pygments_lexer": "ipython3",
   "version": "3.6.9"
  }
 },
 "nbformat": 4,
 "nbformat_minor": 4
}
